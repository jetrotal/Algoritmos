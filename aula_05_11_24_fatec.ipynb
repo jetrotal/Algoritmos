{
  "nbformat": 4,
  "nbformat_minor": 0,
  "metadata": {
    "colab": {
      "provenance": [],
      "include_colab_link": true
    },
    "kernelspec": {
      "name": "python3",
      "display_name": "Python 3"
    },
    "language_info": {
      "name": "python"
    }
  },
  "cells": [
    {
      "cell_type": "markdown",
      "metadata": {
        "id": "view-in-github",
        "colab_type": "text"
      },
      "source": [
        "<a href=\"https://colab.research.google.com/github/jetrotal/Algoritmos/blob/main/aula_05_11_24_fatec.ipynb\" target=\"_parent\"><img src=\"https://colab.research.google.com/assets/colab-badge.svg\" alt=\"Open In Colab\"/></a>"
      ]
    },
    {
      "cell_type": "markdown",
      "source": [
        "# **REVISÃO AULA PASSADA - LAÇOS FOR E WHILE**"
      ],
      "metadata": {
        "id": "4GFL_EBpwhRI"
      }
    },
    {
      "cell_type": "code",
      "execution_count": null,
      "metadata": {
        "id": "uJgTBR6xwTrL",
        "colab": {
          "base_uri": "https://localhost:8080/"
        },
        "outputId": "23ce716f-492e-4bbc-d52a-77b883f9b917"
      },
      "outputs": [
        {
          "output_type": "stream",
          "name": "stdout",
          "text": [
            "Executando for, iteração: 0\n",
            "Executando for, iteração: 1\n",
            "Executando for, iteração: 2\n",
            "Executando for, iteração: 3\n",
            "Executando for, iteração: 4\n"
          ]
        }
      ],
      "source": [
        "# Exemplo de laço for\n",
        "for i in range(5):\n",
        "    print(\"Executando for, iteração:\", i)"
      ]
    },
    {
      "cell_type": "code",
      "source": [
        "# Exemplo de laço while\n",
        "contador = 0\n",
        "while contador < 5:\n",
        "    print(\"Executando while, contador:\", contador)\n",
        "    contador += 1"
      ],
      "metadata": {
        "id": "xXcg44sGwr4J",
        "colab": {
          "base_uri": "https://localhost:8080/"
        },
        "outputId": "e4a8e93a-8446-4b20-d510-d263473c669d"
      },
      "execution_count": null,
      "outputs": [
        {
          "output_type": "stream",
          "name": "stdout",
          "text": [
            "Executando while, contador: 0\n",
            "Executando while, contador: 1\n",
            "Executando while, contador: 2\n",
            "Executando while, contador: 3\n",
            "Executando while, contador: 4\n"
          ]
        }
      ]
    },
    {
      "cell_type": "markdown",
      "source": [
        "\n",
        "\n",
        "---\n",
        "\n"
      ],
      "metadata": {
        "id": "GU2_RjoP3EFj"
      }
    },
    {
      "cell_type": "markdown",
      "source": [
        "# **LISTAS, TUPLAS E DICIONÁRIOS**"
      ],
      "metadata": {
        "id": "4NfkUh-w1uUD"
      }
    },
    {
      "cell_type": "markdown",
      "source": [
        "Esses são conceitos essenciais para trabalhar com coleções de dados no Python e possuem características e usos específicos."
      ],
      "metadata": {
        "id": "kMn7QxoG15BU"
      }
    },
    {
      "cell_type": "markdown",
      "source": [
        "## 1. LISTAS\n",
        "\n",
        "As listas são coleções mutáveis, o que significa que você pode modificar, adicionar ou remover elementos após a criação. Listas são definidas usando colchetes `[]`.\n",
        "\n",
        "**Exemplo 1: Criando uma lista e acessando elementos**"
      ],
      "metadata": {
        "id": "n_U8KARB16A0"
      }
    },
    {
      "cell_type": "code",
      "source": [
        "# Criando uma lista de frutas\n",
        "frutas = [\"maçã\", \"banana\", \"laranja\"]\n",
        "\n",
        "# Acessando elementos\n",
        "print(frutas[0])  # Output: maçã\n",
        "print(frutas[1])  # Output: banana\n",
        "print(frutas[2])  # Output: laranja\n"
      ],
      "metadata": {
        "id": "m3dMP1y12EsW",
        "colab": {
          "base_uri": "https://localhost:8080/"
        },
        "outputId": "cfc7a405-d17e-4bf7-a5c6-aa93f856064f"
      },
      "execution_count": null,
      "outputs": [
        {
          "output_type": "stream",
          "name": "stdout",
          "text": [
            "maçã\n",
            "banana\n",
            "laranja\n"
          ]
        }
      ]
    },
    {
      "cell_type": "markdown",
      "source": [
        "**Exemplo 2: Adicionando e removendo elementos**"
      ],
      "metadata": {
        "id": "KyI3dC_F2L6n"
      }
    },
    {
      "cell_type": "code",
      "source": [
        "# Adicionando uma fruta à lista\n",
        "frutas.append(\"uva\")\n",
        "print(frutas)  # Output: ['maçã', 'banana', 'laranja', 'uva']\n",
        "\n",
        "# Removendo uma fruta da lista\n",
        "frutas.remove(\"banana\")\n",
        "print(frutas)  # Output: ['maçã', 'laranja', 'uva']\n"
      ],
      "metadata": {
        "id": "upfu6ARp2PU4",
        "colab": {
          "base_uri": "https://localhost:8080/"
        },
        "outputId": "b4271edb-6b92-4924-a7eb-5f202f1ac708"
      },
      "execution_count": null,
      "outputs": [
        {
          "output_type": "stream",
          "name": "stdout",
          "text": [
            "['maçã', 'banana', 'laranja', 'uva']\n",
            "['maçã', 'laranja', 'uva']\n"
          ]
        }
      ]
    },
    {
      "cell_type": "markdown",
      "source": [
        "**Exemplo 3: Iterando sobre uma lista**"
      ],
      "metadata": {
        "id": "yGXZWQ-22ROv"
      }
    },
    {
      "cell_type": "code",
      "source": [
        "# Exibindo cada fruta da lista\n",
        "for fruta in frutas:\n",
        "    print(fruta)\n",
        "# Output:\n",
        "# maçã\n",
        "# laranja\n",
        "# uva"
      ],
      "metadata": {
        "id": "Mb28OlpT2TNm",
        "colab": {
          "base_uri": "https://localhost:8080/"
        },
        "outputId": "64a1cf1c-8d3d-465b-9f67-5109564862bf"
      },
      "execution_count": null,
      "outputs": [
        {
          "output_type": "stream",
          "name": "stdout",
          "text": [
            "maçã\n",
            "laranja\n",
            "uva\n"
          ]
        }
      ]
    },
    {
      "cell_type": "code",
      "source": [
        "frutas.insert(0, 'GOIABA')\n",
        "frutas"
      ],
      "metadata": {
        "colab": {
          "base_uri": "https://localhost:8080/"
        },
        "id": "7myBcLvJfGsu",
        "outputId": "33dfb15f-170c-4d69-ee1a-0f35fd5cba86"
      },
      "execution_count": null,
      "outputs": [
        {
          "output_type": "execute_result",
          "data": {
            "text/plain": [
              "['GOIABA', 'maçã', 'laranja', 'uva']"
            ]
          },
          "metadata": {},
          "execution_count": 9
        }
      ]
    },
    {
      "cell_type": "markdown",
      "source": [
        "## 2. TUPLAS\n",
        "\n",
        "As tuplas são semelhantes às listas, mas são imutáveis, ou seja, depois de criadas, seus elementos não podem ser alterados. Tuplas são definidas usando parênteses `()`.\n",
        "\n",
        "**Exemplo 1: Criando uma tupla e acessando elementos**"
      ],
      "metadata": {
        "id": "GwpCxNzC2Wne"
      }
    },
    {
      "cell_type": "code",
      "source": [
        "# Criando uma tupla de números\n",
        "numeros = (1, 2, 3)\n",
        "\n",
        "# Acessando elementos\n",
        "print(numeros[0])  # Output: 1\n",
        "print(numeros[1])  # Output: 2\n",
        "print(numeros[2])  # Output: 3"
      ],
      "metadata": {
        "id": "xVcCDLWC2crp",
        "colab": {
          "base_uri": "https://localhost:8080/"
        },
        "outputId": "be467edd-1d46-4659-cbe8-223d604a0a80"
      },
      "execution_count": null,
      "outputs": [
        {
          "output_type": "stream",
          "name": "stdout",
          "text": [
            "1\n",
            "2\n",
            "3\n"
          ]
        }
      ]
    },
    {
      "cell_type": "markdown",
      "source": [
        "**Exemplo 2: Usando tuplas para armazenar dados imutáveis**"
      ],
      "metadata": {
        "id": "ffoIcA-Q2e94"
      }
    },
    {
      "cell_type": "code",
      "source": [
        "# Coordenadas geográficas de uma cidade\n",
        "coordenadas = (40.7128, -74.0060)  # Latitude e Longitude de Nova York\n",
        "\n",
        "# Exibindo as coordenadas\n",
        "print(f\"Latitude: {coordenadas[0]}, Longitude: {coordenadas[1]}\")\n",
        "# Output: Latitude: 40.7128, Longitude: -74.006"
      ],
      "metadata": {
        "id": "Ve0j8eW22gEH",
        "colab": {
          "base_uri": "https://localhost:8080/"
        },
        "outputId": "142ab695-ec48-47a9-d618-8d9eb376b03b"
      },
      "execution_count": null,
      "outputs": [
        {
          "output_type": "stream",
          "name": "stdout",
          "text": [
            "Latitude: 40.7128, Longitude: -74.006\n"
          ]
        }
      ]
    },
    {
      "cell_type": "markdown",
      "source": [
        "**Exemplo 3: Desempacotando valores de uma tupla**"
      ],
      "metadata": {
        "id": "V3HO2ZO12jSx"
      }
    },
    {
      "cell_type": "code",
      "source": [
        "# Desempacotando uma tupla em variáveis\n",
        "(a, b) = (5, 10)\n",
        "print(a)  # Output: 5\n",
        "print(b)  # Output: 10\n"
      ],
      "metadata": {
        "id": "j4AJMpvq2lUp",
        "colab": {
          "base_uri": "https://localhost:8080/"
        },
        "outputId": "32d8bec7-5309-4017-81e7-bb838b8292fa"
      },
      "execution_count": null,
      "outputs": [
        {
          "output_type": "stream",
          "name": "stdout",
          "text": [
            "5\n",
            "10\n"
          ]
        }
      ]
    },
    {
      "cell_type": "markdown",
      "source": [
        "## 3. Dicionários\n",
        "\n",
        "Os dicionários são coleções mutáveis de pares de chave-valor. Você usa chaves `{}` para defini-los, com cada item sendo uma combinação de uma chave e um valor, como \"nome\": \"Maria\".\n",
        "\n",
        "**Exemplo 1: Criando e acessando elementos de um dicionário**"
      ],
      "metadata": {
        "id": "ol7Itt0v2oAo"
      }
    },
    {
      "cell_type": "code",
      "source": [
        "# Criando um dicionário de informações de uma pessoa\n",
        "pessoa = {\"nome\": \"Maria\", \"idade\": 25, \"cidade\": \"São Paulo\"}\n",
        "\n",
        "# Acessando valores\n",
        "print(pessoa[\"nome\"])  # Output: Maria\n",
        "print(pessoa[\"idade\"])  # Output: 25\n"
      ],
      "metadata": {
        "id": "btvtLxER2tEY",
        "colab": {
          "base_uri": "https://localhost:8080/"
        },
        "outputId": "ff44e014-99a4-4660-9878-ae278884423e"
      },
      "execution_count": null,
      "outputs": [
        {
          "output_type": "stream",
          "name": "stdout",
          "text": [
            "Maria\n",
            "25\n"
          ]
        }
      ]
    },
    {
      "cell_type": "markdown",
      "source": [
        "**Exemplo 2: Adicionando e atualizando valores**"
      ],
      "metadata": {
        "id": "haZjVgq_2vfY"
      }
    },
    {
      "cell_type": "code",
      "source": [
        "# Adicionando um novo par chave-valor\n",
        "pessoa[\"profissão\"] = \"Engenheira\"\n",
        "print(pessoa)  # Output: {'nome': 'Maria', 'idade': 25, 'cidade': 'São Paulo', 'profissão': 'Engenheira'}\n",
        "\n",
        "# Atualizando um valor existente\n",
        "pessoa[\"idade\"] = 26\n",
        "print(pessoa)  # Output: {'nome': 'Maria', 'idade': 26, 'cidade': 'São Paulo', 'profissão': 'Engenheira'}\n"
      ],
      "metadata": {
        "id": "QknoDyv72xLg",
        "colab": {
          "base_uri": "https://localhost:8080/"
        },
        "outputId": "cf559112-bbb6-420f-d099-447c85cea29f"
      },
      "execution_count": null,
      "outputs": [
        {
          "output_type": "stream",
          "name": "stdout",
          "text": [
            "{'nome': 'Maria', 'idade': 25, 'cidade': 'São Paulo', 'profissão': 'Engenheira'}\n",
            "{'nome': 'Maria', 'idade': 26, 'cidade': 'São Paulo', 'profissão': 'Engenheira'}\n"
          ]
        }
      ]
    },
    {
      "cell_type": "markdown",
      "source": [
        "**Exemplo 3: Iterando sobre chaves e valores**"
      ],
      "metadata": {
        "id": "GEauqz_A2y6h"
      }
    },
    {
      "cell_type": "code",
      "source": [
        "# Iterando sobre as chaves e valores do dicionário\n",
        "for chave, valor in pessoa.items():\n",
        "    print(f\"{chave}: {valor}\")\n",
        "# Output:\n",
        "# nome: Maria\n",
        "# idade: 26\n",
        "# cidade: São Paulo\n",
        "# profissão: Engenheira"
      ],
      "metadata": {
        "id": "5xsDh1kG20bR",
        "colab": {
          "base_uri": "https://localhost:8080/"
        },
        "outputId": "8fb2255a-fe9d-4c58-c580-187ebc4ba923"
      },
      "execution_count": null,
      "outputs": [
        {
          "output_type": "stream",
          "name": "stdout",
          "text": [
            "nome: Maria\n",
            "idade: 26\n",
            "cidade: São Paulo\n",
            "profissão: Engenheira\n"
          ]
        }
      ]
    },
    {
      "cell_type": "markdown",
      "source": [
        "- **Listas** são mutáveis, definidas por `[]`, e permitem operações como adição, remoção e modificação.\n",
        "- **Tuplas** são imutáveis, definidas por `()`, e são usadas para dados que não devem ser alterados.\n",
        "- **Dicionários** são coleções de pares chave-valor, definidas por `{}`, e permitem acessar, adicionar, atualizar e remover dados.\n",
        "\n",
        "Essas estruturas são fundamentais para manipulação de dados em Python, cada uma com suas próprias características e vantagens."
      ],
      "metadata": {
        "id": "pBJ_fD6E24pa"
      }
    },
    {
      "cell_type": "markdown",
      "source": [
        "\n",
        "\n",
        "---\n",
        "\n"
      ],
      "metadata": {
        "id": "x1dzgmW53B5a"
      }
    },
    {
      "cell_type": "markdown",
      "source": [
        "# **Funções Criadas pelo Usuário**"
      ],
      "metadata": {
        "id": "wasUGLyXwmS4"
      }
    },
    {
      "cell_type": "markdown",
      "source": [
        "- sem retorno e sem parâmetros\n",
        "- sem retorno e com parâmetros\n",
        "- com retorno e sem parâmetros\n",
        "- com retorno e com parâmetros"
      ],
      "metadata": {
        "id": "BMkgyGhO3sim"
      }
    },
    {
      "cell_type": "markdown",
      "source": [
        "## 1. Função sem retorno e sem parâmetros\n",
        "Essas funções realizam uma tarefa, mas não recebem dados nem retornam valores. Elas apenas executam um bloco de código.\n",
        "\n",
        "**Exemplo:**"
      ],
      "metadata": {
        "id": "tY5mPDIt3wnY"
      }
    },
    {
      "cell_type": "code",
      "source": [
        "def saudacao():\n",
        "    print(\"Olá! Bem-vindo ao curso.\")\n",
        "\n",
        "# Chamando a função\n",
        "saudacao()\n",
        "# Output: Olá! Bem-vindo ao curso."
      ],
      "metadata": {
        "id": "VEQDGIpQ30p-"
      },
      "execution_count": null,
      "outputs": []
    },
    {
      "cell_type": "markdown",
      "source": [
        "## 2. Função sem retorno e com parâmetros\n",
        "Essas funções recebem dados como entrada, mas não retornam nenhum valor. São úteis para operações que apenas executam uma ação com os dados fornecidos.\n",
        "\n",
        "**Exemplo:**"
      ],
      "metadata": {
        "id": "yMq9dFYk3343"
      }
    },
    {
      "cell_type": "code",
      "source": [
        "def exibir_mensagem(nome):\n",
        "    print(f\"Olá, {nome}! Como vai?\")\n",
        "\n",
        "# Chamando a função com um argumento\n",
        "exibir_mensagem(\"Ana\")\n",
        "# Output: Olá, Ana! Como vai?\n"
      ],
      "metadata": {
        "id": "BD_syBJu37mY"
      },
      "execution_count": null,
      "outputs": []
    },
    {
      "cell_type": "markdown",
      "source": [
        "## 3. Função com retorno e sem parâmetros\n",
        "Essas funções não recebem dados de entrada, mas retornam um valor. Isso é útil para funções que realizam algum cálculo ou geram um valor que será utilizado posteriormente.\n",
        "\n",
        "**Exemplo:**"
      ],
      "metadata": {
        "id": "7Q_5jwBm3-OH"
      }
    },
    {
      "cell_type": "code",
      "source": [
        "def obter_mensagem():\n",
        "    return \"Bem-vindo ao Python!\"\n",
        "\n",
        "# Armazenando o retorno da função em uma variável\n",
        "mensagem = obter_mensagem()\n",
        "print(mensagem)\n",
        "# Output: Bem-vindo ao Python!\n"
      ],
      "metadata": {
        "id": "cFA45bPQ4Cbg"
      },
      "execution_count": null,
      "outputs": []
    },
    {
      "cell_type": "markdown",
      "source": [
        "## 4. Função com retorno e com parâmetros\n",
        "Essas funções recebem dados de entrada e retornam um valor. São úteis para funções que processam dados e retornam um resultado.\n",
        "\n",
        "**Exemplo:**"
      ],
      "metadata": {
        "id": "fsEwTG994E0g"
      }
    },
    {
      "cell_type": "code",
      "source": [
        "def somar(a, b):\n",
        "    return a + b\n",
        "\n",
        "# Chamando a função e usando o valor retornado\n",
        "resultado = somar(5, 3)\n",
        "print(resultado)\n",
        "# Output: 8"
      ],
      "metadata": {
        "id": "2CaBUKWE4HsQ",
        "colab": {
          "base_uri": "https://localhost:8080/"
        },
        "outputId": "cf838dd2-501a-40e8-85ac-b6944a896b05"
      },
      "execution_count": null,
      "outputs": [
        {
          "output_type": "stream",
          "name": "stdout",
          "text": [
            "8\n"
          ]
        }
      ]
    },
    {
      "cell_type": "markdown",
      "source": [
        "## **Resum**o\n",
        "- **Sem retorno e sem parâmetro**s: Executa uma tarefa simples, sem entrada ou saída.\n",
        "- **Sem retorno e com parâmetros**: Realiza uma tarefa com dados fornecidos, sem retornar nada.\n",
        "- **Com retorno e sem parâmetros**: Retorna um valor calculado, sem precisar de entrada.\n",
        "- **Com retorno e com parâmetros**: Recebe dados, processa e retorna um valor.\n",
        "\n",
        "Essas combinações ajudam a criar funções flexíveis e reutilizáveis para diversas situações em Python."
      ],
      "metadata": {
        "id": "WTFFmT2F4Mq3"
      }
    },
    {
      "cell_type": "markdown",
      "source": [
        "As funções são blocos de código que realizam tarefas específicas e podem ser reutilizados. Criamos uma função usando a palavra-chave def, seguida pelo nome da função e seus parâmetros."
      ],
      "metadata": {
        "id": "7xSjAwajw3SQ"
      }
    },
    {
      "cell_type": "code",
      "source": [
        "def saudacao(nome):\n",
        "    return f\"Olá, {nome}!\"\n",
        "\n",
        "print(saudacao(input('quem é você? ')))"
      ],
      "metadata": {
        "id": "pKyog3cWw6ZB",
        "colab": {
          "base_uri": "https://localhost:8080/"
        },
        "outputId": "fa295182-d21c-404a-e268-eb01275f6393"
      },
      "execution_count": null,
      "outputs": [
        {
          "output_type": "stream",
          "name": "stdout",
          "text": [
            "quem é você? DESGRAÇAAAAAAA\n",
            "Olá, DESGRAÇAAAAAAA!\n"
          ]
        }
      ]
    },
    {
      "cell_type": "markdown",
      "source": [
        "\n",
        "\n",
        "---\n",
        "\n"
      ],
      "metadata": {
        "id": "ehdTMSOA4XzZ"
      }
    },
    {
      "cell_type": "markdown",
      "source": [
        "# **Exercícios Propostos (Com Resolução)**"
      ],
      "metadata": {
        "id": "VSgGBzhOw-WA"
      }
    },
    {
      "cell_type": "markdown",
      "source": [
        "1. Imprimir Números de 1 a 10"
      ],
      "metadata": {
        "id": "JSdtOKL5xBeo"
      }
    },
    {
      "cell_type": "code",
      "source": [
        "for i in range(1, 11):\n",
        "    print(i)"
      ],
      "metadata": {
        "id": "fbIkMKrrxAww",
        "colab": {
          "base_uri": "https://localhost:8080/"
        },
        "outputId": "9ce413af-bd74-48d4-8a0d-6255870b355e"
      },
      "execution_count": null,
      "outputs": [
        {
          "output_type": "stream",
          "name": "stdout",
          "text": [
            "1\n",
            "2\n",
            "3\n",
            "4\n",
            "5\n",
            "6\n",
            "7\n",
            "8\n",
            "9\n",
            "10\n"
          ]
        }
      ]
    },
    {
      "cell_type": "markdown",
      "source": [
        "2. Soma dos Números Pares até 20"
      ],
      "metadata": {
        "id": "7ZJD9fTGxGrh"
      }
    },
    {
      "cell_type": "code",
      "source": [
        "soma = 0\n",
        "for i in range(1, 21):\n",
        "    if i % 2 == 0:\n",
        "        soma += i\n",
        "print(\"Soma dos pares até 20:\", soma)\n"
      ],
      "metadata": {
        "id": "YxsIe5hexLKx",
        "colab": {
          "base_uri": "https://localhost:8080/"
        },
        "outputId": "69d05344-88bd-41c0-a4c0-8c294ce235b4"
      },
      "execution_count": null,
      "outputs": [
        {
          "output_type": "stream",
          "name": "stdout",
          "text": [
            "Soma dos pares até 20: 110\n"
          ]
        }
      ]
    },
    {
      "cell_type": "markdown",
      "source": [
        "3. Contagem Regressiva"
      ],
      "metadata": {
        "id": "x1X8JhpCxOMq"
      }
    },
    {
      "cell_type": "code",
      "source": [
        "for i in range(10, 0, -1):\n",
        "    print(i)\n",
        "print(\"Lançar!\")"
      ],
      "metadata": {
        "id": "_mnmEBg5xNaj",
        "colab": {
          "base_uri": "https://localhost:8080/"
        },
        "outputId": "242cc0eb-18eb-4058-e07b-ef1551bc52d9"
      },
      "execution_count": null,
      "outputs": [
        {
          "output_type": "stream",
          "name": "stdout",
          "text": [
            "10\n",
            "9\n",
            "8\n",
            "7\n",
            "6\n",
            "5\n",
            "4\n",
            "3\n",
            "2\n",
            "1\n",
            "Lançar!\n"
          ]
        }
      ]
    },
    {
      "cell_type": "markdown",
      "source": [
        "4. Cálculo de Fatorial"
      ],
      "metadata": {
        "id": "ucM2Xbl7xSEq"
      }
    },
    {
      "cell_type": "code",
      "source": [
        "def fatorial(n):\n",
        "    resultado = 1\n",
        "    for i in range(1, n + 1):\n",
        "        resultado *= i\n",
        "    return resultado\n",
        "\n",
        "print(fatorial(5))  # Exemplo de uso"
      ],
      "metadata": {
        "id": "cQP-Gz20xVAr",
        "colab": {
          "base_uri": "https://localhost:8080/"
        },
        "outputId": "2f62d8ec-17c7-4b2c-cbe3-1c5ab4443a60"
      },
      "execution_count": null,
      "outputs": [
        {
          "output_type": "stream",
          "name": "stdout",
          "text": [
            "120\n"
          ]
        }
      ]
    },
    {
      "cell_type": "markdown",
      "source": [
        "5. Verificar Número Primo"
      ],
      "metadata": {
        "id": "cT05XsNdxZ4z"
      }
    },
    {
      "cell_type": "code",
      "source": [
        "def eh_primo(n):\n",
        "    if n < 2:\n",
        "        return False\n",
        "    for i in range(2, int(n ** 0.5) + 1):\n",
        "        if n % i == 0:\n",
        "            return False\n",
        "    return True\n",
        "\n",
        "print(eh_primo(7))  # Exemplo de uso"
      ],
      "metadata": {
        "id": "ant5m9k9xbka",
        "colab": {
          "base_uri": "https://localhost:8080/"
        },
        "outputId": "af5bed02-27e2-4981-c889-73ab9ad51348"
      },
      "execution_count": null,
      "outputs": [
        {
          "output_type": "stream",
          "name": "stdout",
          "text": [
            "True\n"
          ]
        }
      ]
    },
    {
      "cell_type": "markdown",
      "source": [
        "6. Soma dos Elementos de uma Lista"
      ],
      "metadata": {
        "id": "-DKrm1eAxhBt"
      }
    },
    {
      "cell_type": "code",
      "source": [
        "def soma_lista(lista):\n",
        "    soma = 0\n",
        "    for elemento in lista:\n",
        "        soma += elemento\n",
        "    return soma\n",
        "\n",
        "print(soma_lista([1, 2, 3, 4, 5]))  # Exemplo de uso"
      ],
      "metadata": {
        "id": "Ck9eJYMtxiy2",
        "colab": {
          "base_uri": "https://localhost:8080/"
        },
        "outputId": "72fdb16c-e228-40c6-ca9b-1bca5b6c0310"
      },
      "execution_count": null,
      "outputs": [
        {
          "output_type": "stream",
          "name": "stdout",
          "text": [
            "15\n"
          ]
        }
      ]
    },
    {
      "cell_type": "markdown",
      "source": [
        "7. Tabuada"
      ],
      "metadata": {
        "id": "2lFwup_Sxl-F"
      }
    },
    {
      "cell_type": "code",
      "source": [
        "def tabuada(n):\n",
        "    for i in range(1, 11):\n",
        "        print(f\"{n} x {i} = {n * i}\")\n",
        "\n",
        "tabuada(7)  # Exemplo de uso"
      ],
      "metadata": {
        "id": "Ser-61VUxoeT",
        "colab": {
          "base_uri": "https://localhost:8080/"
        },
        "outputId": "89f2e07e-9ee9-4cf0-8514-563f8e9ae827"
      },
      "execution_count": null,
      "outputs": [
        {
          "output_type": "stream",
          "name": "stdout",
          "text": [
            "7 x 1 = 7\n",
            "7 x 2 = 14\n",
            "7 x 3 = 21\n",
            "7 x 4 = 28\n",
            "7 x 5 = 35\n",
            "7 x 6 = 42\n",
            "7 x 7 = 49\n",
            "7 x 8 = 56\n",
            "7 x 9 = 63\n",
            "7 x 10 = 70\n"
          ]
        }
      ]
    },
    {
      "cell_type": "markdown",
      "source": [
        "8. Contagem de Vogais"
      ],
      "metadata": {
        "id": "gswnjWSAxrb8"
      }
    },
    {
      "cell_type": "code",
      "source": [
        "def conta_vogais(palavra):\n",
        "    vogais = \"aeiou\"\n",
        "    contador = 0\n",
        "    for letra in palavra.lower():\n",
        "        if letra in vogais:\n",
        "            contador += 1\n",
        "    return contador\n",
        "\n",
        "print(conta_vogais(\"Python\"))  # Exemplo de uso"
      ],
      "metadata": {
        "id": "hvTrX9R-xs6U",
        "colab": {
          "base_uri": "https://localhost:8080/"
        },
        "outputId": "1dfa199b-e50a-4486-833c-cbb860e013da"
      },
      "execution_count": null,
      "outputs": [
        {
          "output_type": "stream",
          "name": "stdout",
          "text": [
            "1\n"
          ]
        }
      ]
    },
    {
      "cell_type": "markdown",
      "source": [
        "9. Sequência de Fibonacci"
      ],
      "metadata": {
        "id": "f0_THc4mx0A8"
      }
    },
    {
      "cell_type": "code",
      "source": [
        "def fibonacci(n):\n",
        "    sequencia = [0, 1]\n",
        "    while len(sequencia) < n:\n",
        "        sequencia.append(sequencia[-1] + sequencia[-2])\n",
        "    return sequencia[:n]\n",
        "\n",
        "print(fibonacci(10))  # Exemplo de uso\n"
      ],
      "metadata": {
        "id": "HAIe6Lznx1Jl",
        "colab": {
          "base_uri": "https://localhost:8080/"
        },
        "outputId": "658af31a-b868-476f-b66b-624bd65fbc82"
      },
      "execution_count": null,
      "outputs": [
        {
          "output_type": "stream",
          "name": "stdout",
          "text": [
            "[0, 1, 1, 2, 3, 5, 8, 13, 21, 34]\n"
          ]
        }
      ]
    },
    {
      "cell_type": "markdown",
      "source": [
        "10. Converter Temperatura"
      ],
      "metadata": {
        "id": "tBZUkFD4x50k"
      }
    },
    {
      "cell_type": "code",
      "source": [
        "def celsius_para_fahrenheit(c):\n",
        "    return c * 9 / 5 + 32\n",
        "\n",
        "print(celsius_para_fahrenheit(25))  # Exemplo de uso"
      ],
      "metadata": {
        "id": "wcArAO1Px7g9",
        "colab": {
          "base_uri": "https://localhost:8080/"
        },
        "outputId": "28c0da23-d651-48e1-8f82-83e9e443c5e3"
      },
      "execution_count": null,
      "outputs": [
        {
          "output_type": "stream",
          "name": "stdout",
          "text": [
            "77.0\n"
          ]
        }
      ]
    },
    {
      "cell_type": "markdown",
      "source": [
        "# **Exercícios para Prática dos Alunos**"
      ],
      "metadata": {
        "id": "M7qtveYHx-qX"
      }
    },
    {
      "cell_type": "markdown",
      "source": [
        "## 1. Quadrado dos Números de 1 a 10\n",
        "\n",
        "Crie uma função que exibe o quadrado dos números de 1 a 10."
      ],
      "metadata": {
        "id": "EupGD7UqyA4e"
      }
    },
    {
      "cell_type": "code",
      "source": [
        "def quadrado_numeros():\n",
        "    for i in range(1, 11):\n",
        "        print(i ** 2)\n",
        "\n",
        "quadrado_numeros()"
      ],
      "metadata": {
        "id": "K777ynkzyGak",
        "colab": {
          "base_uri": "https://localhost:8080/"
        },
        "outputId": "47a9bfc2-e584-4e1c-8b83-52eb01f65d37"
      },
      "execution_count": null,
      "outputs": [
        {
          "output_type": "stream",
          "name": "stdout",
          "text": [
            "1\n",
            "4\n",
            "9\n",
            "16\n",
            "25\n",
            "36\n",
            "49\n",
            "64\n",
            "81\n",
            "100\n"
          ]
        }
      ]
    },
    {
      "cell_type": "markdown",
      "source": [
        "## 2. Produto dos Números de uma Lista\n",
        "\n",
        "Crie uma função que recebe uma lista e retorna o produto dos seus elementos."
      ],
      "metadata": {
        "id": "nHhBAvsuyN1v"
      }
    },
    {
      "cell_type": "code",
      "source": [
        "def produto_lista(lista):\n",
        "    produto = 1\n",
        "    for elemento in lista:\n",
        "        produto *= elemento\n",
        "    return produto\n",
        "\n",
        "lista = [2,3,4]\n",
        "print(produto_lista(lista))"
      ],
      "metadata": {
        "id": "DMuoPW9o0oy2",
        "colab": {
          "base_uri": "https://localhost:8080/"
        },
        "outputId": "77863fc8-b8ef-4cd4-e98c-c44fb577d4d9"
      },
      "execution_count": null,
      "outputs": [
        {
          "output_type": "stream",
          "name": "stdout",
          "text": [
            "24\n"
          ]
        }
      ]
    },
    {
      "cell_type": "markdown",
      "source": [
        "## 3. Cálculo da Média\n",
        "\n",
        "Escreva uma função que recebe uma lista de números e retorna a média aritmética."
      ],
      "metadata": {
        "id": "r_BNuBu40Owt"
      }
    },
    {
      "cell_type": "code",
      "source": [
        "def calcular_media(lista):\n",
        "    soma = sum(lista)\n",
        "    media = soma / len(lista)\n",
        "    return media\n",
        "\n",
        "numeros = [10, 20, 30, 40, 50]\n",
        "print(calcular_media(numeros))"
      ],
      "metadata": {
        "id": "xQ2RWHwL0peE",
        "colab": {
          "base_uri": "https://localhost:8080/"
        },
        "outputId": "813acc25-265a-4ea9-f49f-ab02845b8485"
      },
      "execution_count": null,
      "outputs": [
        {
          "output_type": "stream",
          "name": "stdout",
          "text": [
            "30.0\n"
          ]
        }
      ]
    },
    {
      "cell_type": "code",
      "source": [],
      "metadata": {
        "id": "3ncScUYA0QHK"
      },
      "execution_count": null,
      "outputs": []
    },
    {
      "cell_type": "markdown",
      "source": [
        "## 4. Verificar Palíndromo\n",
        "\n",
        "Crie uma função que recebe uma palavra e verifica se é um palíndromo (lê-se igual de trás para frente)."
      ],
      "metadata": {
        "id": "x3sX8XRy0P-N"
      }
    },
    {
      "cell_type": "code",
      "source": [
        "def eh_palindromo(palavra):\n",
        "    palavra = palavra.lower()\n",
        "    if (palavra == palavra[::-1]):\n",
        "      return \"é palindromo\"\n",
        "    else:\n",
        "      return \"não é palindromo\"\n",
        "\n",
        "\n",
        "input_palavra = input('Digite uma palavra: ')\n",
        "print(eh_palindromo(input_palavra))"
      ],
      "metadata": {
        "id": "08UkaKVb0p5d",
        "colab": {
          "base_uri": "https://localhost:8080/"
        },
        "outputId": "ae78fbd4-b15c-4db6-fb63-ffe385651257"
      },
      "execution_count": null,
      "outputs": [
        {
          "output_type": "stream",
          "name": "stdout",
          "text": [
            "Digite uma palavra: bataa\n",
            "não é palindromo\n"
          ]
        }
      ]
    },
    {
      "cell_type": "markdown",
      "source": [
        "## 5. Números Ímpares entre 1 e 20\n",
        "\n",
        "Escreva uma função que retorna uma lista com todos os números ímpares entre 1 e 20."
      ],
      "metadata": {
        "id": "499uAnNc0Rns"
      }
    },
    {
      "cell_type": "code",
      "source": [
        "def get_impares():\n",
        "    impares = []\n",
        "    for i in range(1, 21):\n",
        "        if i % 2 != 0:\n",
        "            impares.append(i)\n",
        "    return impares\n",
        "\n",
        "print(get_impares())\n"
      ],
      "metadata": {
        "id": "1jDDP8wE0qR9",
        "colab": {
          "base_uri": "https://localhost:8080/"
        },
        "outputId": "4754d6bf-028d-4ed8-df29-627746714eea"
      },
      "execution_count": null,
      "outputs": [
        {
          "output_type": "stream",
          "name": "stdout",
          "text": [
            "[1, 3, 5, 7, 9, 11, 13, 15, 17, 19]\n"
          ]
        }
      ]
    },
    {
      "cell_type": "markdown",
      "source": [
        "## 6. Número Mínimo e Máximo em uma Lista\n",
        "\n",
        "Crie uma função que retorna o menor e o maior número de uma lista."
      ],
      "metadata": {
        "id": "r0WNyuYB0R6M"
      }
    },
    {
      "cell_type": "code",
      "source": [
        "def min_max(lista):\n",
        "    return min(lista), max(lista) # usando funções min e max do python\n",
        "\n",
        "lista_nums = [10, 20, 30, 40, 50]\n",
        "print(min_max(lista_nums))"
      ],
      "metadata": {
        "id": "_p_CSbEE0qvk",
        "colab": {
          "base_uri": "https://localhost:8080/"
        },
        "outputId": "b68b332a-613a-4d2e-f2f0-98e5d9a568b7"
      },
      "execution_count": null,
      "outputs": [
        {
          "output_type": "stream",
          "name": "stdout",
          "text": [
            "(10, 50)\n"
          ]
        }
      ]
    },
    {
      "cell_type": "code",
      "source": [],
      "metadata": {
        "id": "al5mN64f2C84"
      },
      "execution_count": null,
      "outputs": []
    }
  ]
}