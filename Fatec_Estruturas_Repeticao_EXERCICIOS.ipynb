{
  "nbformat": 4,
  "nbformat_minor": 0,
  "metadata": {
    "colab": {
      "provenance": [],
      "include_colab_link": true
    },
    "kernelspec": {
      "name": "python3",
      "display_name": "Python 3"
    },
    "language_info": {
      "name": "python"
    }
  },
  "cells": [
    {
      "cell_type": "markdown",
      "metadata": {
        "id": "view-in-github",
        "colab_type": "text"
      },
      "source": [
        "<a href=\"https://colab.research.google.com/github/jetrotal/Algoritmos/blob/main/Fatec_Estruturas_Repeticao_EXERCICIOS.ipynb\" target=\"_parent\"><img src=\"https://colab.research.google.com/assets/colab-badge.svg\" alt=\"Open In Colab\"/></a>"
      ]
    },
    {
      "cell_type": "markdown",
      "source": [
        "1- Faça um programa que peça uma nota, entre zero e dez. Mostre uma mensagem caso o valor seja inválido e continue pedindo até que o usuário informe um valor válido."
      ],
      "metadata": {
        "id": "4BHkhl1eO0V4"
      }
    },
    {
      "cell_type": "code",
      "source": [
        "valorValido = False;\n",
        "while (valorValido == False):\n",
        "  nota = float(input('insira uma nota entre 0 e 10: '));\n",
        "  if (nota >= 0 and nota <= 10):\n",
        "    valorValido = True;\n",
        "    print('nota válida');\n",
        "  else:\n",
        "    print('nota inválida');"
      ],
      "metadata": {
        "id": "4aR8eWjyO20P",
        "outputId": "e1732f0e-eee3-470d-f8f1-4ba96c3ede0a",
        "colab": {
          "base_uri": "https://localhost:8080/"
        }
      },
      "execution_count": null,
      "outputs": [
        {
          "output_type": "stream",
          "name": "stdout",
          "text": [
            "insira uma nota entre 0 e 10: 10\n",
            "nota válida\n"
          ]
        }
      ]
    },
    {
      "cell_type": "markdown",
      "source": [
        "2- Faça um programa que leia um nome de usuário e a sua senha e não aceite a senha igual ao nome do usuário, mostrando uma mensagem de erro e voltando a pedir as informações."
      ],
      "metadata": {
        "id": "8xLNyx3vO6__"
      }
    },
    {
      "cell_type": "code",
      "source": [
        "uniqueUserSenha = False;\n",
        "while (uniqueUserSenha == False):\n",
        "  user = input('insira um usuário: ');\n",
        "  senha = input('insira uma senha: ');\n",
        "  if (user != senha):\n",
        "    uniqueUserSenha = True;\n",
        "    print('usuário e senha válidos\\n');\n",
        "  else:\n",
        "    print('usuário e senha inválidos\\n');"
      ],
      "metadata": {
        "id": "x21IQbJqPDtI",
        "outputId": "f76614b7-5b3d-4a03-a732-4033d86d62c5",
        "colab": {
          "base_uri": "https://localhost:8080/"
        }
      },
      "execution_count": null,
      "outputs": [
        {
          "output_type": "stream",
          "name": "stdout",
          "text": [
            "insira um usuário: a\n",
            "insira uma senha: a\n",
            "usuário e senha inválidos\n",
            "insira um usuário: a\n",
            "insira uma senha: b\n",
            "usuário e senha válidos\n"
          ]
        }
      ]
    },
    {
      "cell_type": "markdown",
      "source": [
        "3- Faça um programa que leia e valide as seguintes informações:\n",
        "*   Nome: maior que 3 caracteres;\n",
        "*   Idade: entre 0 e 150;\n",
        "*   Salário: maior que zero;\n",
        "*   Sexo: 'f' ou 'm';\n",
        "*   Estado Civil: 's', 'c', 'v', 'd';\n",
        "\n",
        "Use a função **len(string)** para saber o tamanho de um texto (número de caracteres).\n"
      ],
      "metadata": {
        "id": "l24MnOXFPG7n"
      }
    },
    {
      "cell_type": "code",
      "source": [
        "validacaoStep = 0;\n",
        "while (validacaoStep < 5):\n",
        "  if (validacaoStep == 0):\n",
        "    nome = input('insira um nome: ');\n",
        "    if (len(nome) > 3):\n",
        "      validacaoStep += 1;\n",
        "      print('nome válido\\n');\n",
        "    else:\n",
        "      print('nome inválido\\n');\n",
        "  elif (validacaoStep == 1):\n",
        "    idade = int(input('insira uma idade: '));\n",
        "    if (idade >= 0 and idade <= 150):\n",
        "      validacaoStep += 1;\n",
        "      print('idade válida\\n');\n",
        "    else:\n",
        "      print('idade inválida\\n');\n",
        "  elif (validacaoStep == 2):\n",
        "    salario = float(input('insira um salário: '));\n",
        "    if (salario > 0):\n",
        "      validacaoStep += 1;\n",
        "      print('salário válido\\n');\n",
        "    else:\n",
        "      print('salário inválido\\n');\n",
        "  elif (validacaoStep == 3):\n",
        "    sexo = input('insira um sexo(m ou f): ').lower;\n",
        "    if (sexo == 'f' or sexo == 'm'):\n",
        "      validacaoStep += 1;\n",
        "      print('sexo válido\\n');\n",
        "    else:\n",
        "      print('sexo inválido\\n');\n",
        "  elif (validacaoStep == 4):\n",
        "    estadoCivil = input('insira um estado civil (s c v ou d): ').lower;\n",
        "    if (estadoCivil == 's' or estadoCivil == 'c' or estadoCivil == 'v' or estadoCivil == 'd'):\n",
        "      validacaoStep += 1;\n",
        "      print('estado civil válido\\n');\n",
        "      break;\n",
        "    else:\n",
        "      print('estado civil inválido\\n');\n"
      ],
      "metadata": {
        "id": "w28p4gJ8Pc2b",
        "outputId": "e6dd3a4d-1adc-4906-a16c-ecd2417c46e7",
        "colab": {
          "base_uri": "https://localhost:8080/"
        }
      },
      "execution_count": null,
      "outputs": [
        {
          "output_type": "stream",
          "name": "stdout",
          "text": [
            "insira um nome: A\n",
            "nome inválido\n",
            "\n",
            "insira um nome: ABCD\n",
            "nome válido\n",
            "\n",
            "insira uma idade: 200\n",
            "idade inválida\n",
            "\n",
            "insira uma idade: 50\n",
            "idade válida\n",
            "\n",
            "insira um salário: 1\n",
            "salário válido\n",
            "\n",
            "insira um sexo: 3\n",
            "sexo inválido\n",
            "\n",
            "insira um sexo: M\n",
            "sexo inválido\n",
            "\n",
            "insira um sexo: m\n",
            "sexo válido\n",
            "\n",
            "insira um estado civil: s\n",
            "estado civil válido\n",
            "\n"
          ]
        }
      ]
    },
    {
      "cell_type": "markdown",
      "source": [
        "4- Supondo que a população de um país A seja da ordem de 80000 habitantes com uma taxa anual de crescimento de 3% e que a população de B seja 200000 habitantes com uma taxa de crescimento de 1.5%. Faça um programa que calcule e escreva o número de anos necessários para que a população do país A ultrapasse ou iguale a população do país B, mantidas as taxas de crescimento."
      ],
      "metadata": {
        "id": "8WpDFV0uP1DX"
      }
    },
    {
      "cell_type": "code",
      "source": [
        "povoA = 80000;\n",
        "povoB = 200000;\n",
        "taxaA = 0.03;\n",
        "taxaB = 0.015;\n",
        "\n",
        "anos = 0;\n",
        "while (povoA < povoB):\n",
        "  povoA += povoA * taxaA;\n",
        "  povoB += povoB * taxaB;\n",
        "  anos += 1\n",
        "\n",
        "print('serão necessários', anos, 'anos para que a população do país A ultrapasse ou iguale a população do país B');"
      ],
      "metadata": {
        "id": "Qszzk46vzGoS",
        "outputId": "d18458ba-8e5f-4279-947c-ed3898c0c40a",
        "colab": {
          "base_uri": "https://localhost:8080/"
        }
      },
      "execution_count": null,
      "outputs": [
        {
          "output_type": "stream",
          "name": "stdout",
          "text": [
            "serão necessários 63 anos para que a população do país A ultrapasse ou iguale a população do país B\n"
          ]
        }
      ]
    },
    {
      "cell_type": "markdown",
      "source": [
        "5- Altere o programa anterior permitindo ao usuário informar as populações e as taxas de crescimento iniciais. Valide a entrada e permita repetir a operação."
      ],
      "metadata": {
        "id": "GaMiWS9DP-zf"
      }
    },
    {
      "cell_type": "code",
      "source": [
        "povoA = int(input('tamanho da população A'));\n",
        "povoB = int(input('tamanho da população B'));\n",
        "taxaA = float(input('taxa de crescimento da população A'));\n",
        "taxaB = float(input('taxa de crescimento da população B'));\n",
        "\n",
        "anos = 0;\n",
        "while (povoA < povoB):\n",
        "  povoA += povoA * taxaA;\n",
        "  povoB += povoB * taxaB;\n",
        "  anos += 1\n",
        "\n",
        "print('serão necessários', anos, 'anos para que a população do país A ultrapasse ou iguale a população do país B');"
      ],
      "metadata": {
        "id": "ibOa9dT0P5iD",
        "outputId": "c9b84584-c662-466f-d6e4-d6627d1f3e32",
        "colab": {
          "base_uri": "https://localhost:8080/"
        }
      },
      "execution_count": null,
      "outputs": [
        {
          "output_type": "stream",
          "name": "stdout",
          "text": [
            "tamanho da população A80000\n",
            "tamanho da população B200000\n",
            "taxa de crescimento da população A0.03\n",
            "taxa de crescimento da população B0.015\n",
            "serão necessários 63 anos para que a população do país A ultrapasse ou iguale a população do país B\n"
          ]
        }
      ]
    },
    {
      "cell_type": "markdown",
      "source": [
        "6- Faça um programa que imprima na tela os números de 1 a 20, um abaixo do outro. Depois modifique o programa para que ele mostre os números um ao lado do outro."
      ],
      "metadata": {
        "id": "HF_S1CYWQG1v"
      }
    },
    {
      "cell_type": "code",
      "source": [
        "for i in range(1, 21):\n",
        "  print(i);\n",
        "print('\\n');\n",
        "\n",
        "for i in range(1, 21):\n",
        "  if(i != 20): print(i, end=', ');\n",
        "  else: print(i);"
      ],
      "metadata": {
        "id": "ns_qNgR2zIPJ",
        "outputId": "1a4c9f14-87d6-40db-cda0-ec66af59285d",
        "colab": {
          "base_uri": "https://localhost:8080/"
        }
      },
      "execution_count": null,
      "outputs": [
        {
          "output_type": "stream",
          "name": "stdout",
          "text": [
            "1\n",
            "2\n",
            "3\n",
            "4\n",
            "5\n",
            "6\n",
            "7\n",
            "8\n",
            "9\n",
            "10\n",
            "11\n",
            "12\n",
            "13\n",
            "14\n",
            "15\n",
            "16\n",
            "17\n",
            "18\n",
            "19\n",
            "20\n",
            "\n",
            "\n",
            "1, 2, 3, 4, 5, 6, 7, 8, 9, 10, 11, 12, 13, 14, 15, 16, 17, 18, 19, 20\n"
          ]
        }
      ]
    },
    {
      "cell_type": "markdown",
      "source": [
        "7- Faça um programa que leia 5 números e informe o maior número."
      ],
      "metadata": {
        "id": "v7UrGR9MQLnW"
      }
    },
    {
      "cell_type": "code",
      "source": [
        "numeros = []\n",
        "for i in range(5):\n",
        "    num = int(input(f'Insira o número {chr(65 + i)}: '))\n",
        "    numeros.append(num)\n",
        "\n",
        "maiorNum = numeros[0]\n",
        "for num in numeros:\n",
        "    if num > maiorNum:\n",
        "        maiorNum = num\n",
        "\n",
        "print('\\nO maior número é', maiorNum)\n"
      ],
      "metadata": {
        "id": "MOwOObu6QI5a",
        "outputId": "5ea5f536-7b04-4706-86ea-6710c3db0f29",
        "colab": {
          "base_uri": "https://localhost:8080/"
        }
      },
      "execution_count": 1,
      "outputs": [
        {
          "output_type": "stream",
          "name": "stdout",
          "text": [
            "Insira o número A: 5\n",
            "Insira o número B: 4\n",
            "Insira o número C: 3\n",
            "Insira o número D: 2\n",
            "Insira o número E: 1\n",
            "O maior número é 5\n"
          ]
        }
      ]
    },
    {
      "cell_type": "markdown",
      "source": [
        "8- Faça um programa que leia 5 números e informe a soma e a média dos números."
      ],
      "metadata": {
        "id": "B-7qr6k3QQsg"
      }
    },
    {
      "cell_type": "code",
      "source": [
        "numeros = [] # Usando array no lugar de variaveis individuais.\n",
        "for i in range(5):\n",
        "    num = int(input('Insira o número ' + chr(65 + i)+ ': ')) # usando caracteres da tabela ASCII.\n",
        "    numeros.append(num)\n",
        "\n",
        "soma = sum(numeros) # somando os items da array toda.\n",
        "media = soma / len(numeros)\n",
        "\n",
        "print('A soma dos números é', soma)\n",
        "print('A média dos números é', media)"
      ],
      "metadata": {
        "id": "pmJfzKWjQR0-",
        "colab": {
          "base_uri": "https://localhost:8080/"
        },
        "outputId": "5ed616a8-976c-41a5-b530-c49e7ef542f8"
      },
      "execution_count": 2,
      "outputs": [
        {
          "output_type": "stream",
          "name": "stdout",
          "text": [
            "Insira o número A: 1\n",
            "Insira o número B: 2\n",
            "Insira o número C: 3\n",
            "Insira o número D: 4\n",
            "Insira o número E: 5\n",
            "A soma dos números é 15\n",
            "A média dos números é 3.0\n"
          ]
        }
      ]
    },
    {
      "cell_type": "markdown",
      "source": [
        "9- Faça um programa que imprima na tela apenas os números ímpares entre 1 e 50."
      ],
      "metadata": {
        "id": "nUAFdwiYQU9H"
      }
    },
    {
      "cell_type": "code",
      "source": [
        "num = 1;\n",
        "while (num <= 50):\n",
        "  if (num % 2 != 0):\n",
        "    print(num);\n",
        "  num += 1;"
      ],
      "metadata": {
        "id": "dttpJpn3QV73",
        "outputId": "37cfc3c3-2e85-4cb3-deb4-edf4c46aceae",
        "colab": {
          "base_uri": "https://localhost:8080/"
        }
      },
      "execution_count": null,
      "outputs": [
        {
          "output_type": "stream",
          "name": "stdout",
          "text": [
            "1\n",
            "3\n",
            "5\n",
            "7\n",
            "9\n",
            "11\n",
            "13\n",
            "15\n",
            "17\n",
            "19\n",
            "21\n",
            "23\n",
            "25\n",
            "27\n",
            "29\n",
            "31\n",
            "33\n",
            "35\n",
            "37\n",
            "39\n",
            "41\n",
            "43\n",
            "45\n",
            "47\n",
            "49\n"
          ]
        }
      ]
    },
    {
      "cell_type": "markdown",
      "source": [
        "10- Faça um programa que receba dois números inteiros e gere os números inteiros que estão no intervalo compreendido por eles."
      ],
      "metadata": {
        "id": "XMh61ATtQaQ2"
      }
    },
    {
      "cell_type": "code",
      "source": [
        "numA = int(input('insira o número inicial: '));\n",
        "numB = int(input('insira o número final: '));\n",
        "\n",
        "if (numA < numB):\n",
        "  for i in range(numA + 1, numB):\n",
        "    print(i);\n",
        "else:\n",
        "  for i in range(numB + 1, numA):\n",
        "    print(i);"
      ],
      "metadata": {
        "id": "ijjW78AqQbRo",
        "outputId": "05e863a5-ea60-449e-e43f-cae19a4f2849",
        "colab": {
          "base_uri": "https://localhost:8080/"
        }
      },
      "execution_count": null,
      "outputs": [
        {
          "name": "stdout",
          "output_type": "stream",
          "text": [
            "insira o número inicial: 1\n",
            "insira o número final: 1\n"
          ]
        }
      ]
    },
    {
      "cell_type": "markdown",
      "source": [
        "11- Altere o programa anterior para mostrar no final a soma dos números."
      ],
      "metadata": {
        "id": "5NuReyMRQdmH"
      }
    },
    {
      "cell_type": "code",
      "source": [
        "numA = int(input('insira o número inicial: '));\n",
        "numB = int(input('insira o número final: '));\n",
        "soma = 0;\n",
        "\n",
        "if (numA < numB):\n",
        "  for i in range(numA + 1, numB):\n",
        "    print(i);\n",
        "    soma += i;\n",
        "else:\n",
        "  for i in range(numB + 1, numA):\n",
        "    print(i);\n",
        "    soma += i;\n",
        "\n",
        "print('\\na soma dos números é', soma);"
      ],
      "metadata": {
        "id": "Dw3f5v0dQemp",
        "outputId": "449f898f-7d9c-4132-f588-8134a72920b1",
        "colab": {
          "base_uri": "https://localhost:8080/"
        }
      },
      "execution_count": null,
      "outputs": [
        {
          "output_type": "stream",
          "name": "stdout",
          "text": [
            "insira o número inicial: 1\n",
            "insira o número final: 10\n",
            "2\n",
            "3\n",
            "4\n",
            "5\n",
            "6\n",
            "7\n",
            "8\n",
            "9\n",
            "\n",
            " a soma dos números é 44\n"
          ]
        }
      ]
    },
    {
      "cell_type": "markdown",
      "source": [
        "12- Desenvolva um gerador de tabuada, capaz de gerar a tabuada de qualquer número inteiro entre 1 a 10. O usuário deve informar de qual numero ele deseja ver a tabuada. A saída deve ser conforme o exemplo abaixo:\n",
        "\n",
        "Tabuada de 5:\n",
        "\n",
        "5 X 1 = 5\n",
        "\n",
        "5 X 2 = 10\n",
        "\n",
        "...\n",
        "\n",
        "5 X 10 = 50"
      ],
      "metadata": {
        "id": "JzSUD3yHQiRW"
      }
    },
    {
      "cell_type": "code",
      "source": [
        "tabuada = int(input('insira o número da tabuada: '));\n",
        "\n",
        "for i in range(1, 11):\n",
        "  print(tabuada, 'x', i, '=', tabuada * i);"
      ],
      "metadata": {
        "id": "BFDcQCFnQnNo",
        "outputId": "fc220607-4c1b-4c50-9ae0-1c4cbb39e185",
        "colab": {
          "base_uri": "https://localhost:8080/"
        }
      },
      "execution_count": null,
      "outputs": [
        {
          "output_type": "stream",
          "name": "stdout",
          "text": [
            "insira o número da tabuada: 5\n",
            "5 x 1 = 5\n",
            "5 x 2 = 10\n",
            "5 x 3 = 15\n",
            "5 x 4 = 20\n",
            "5 x 5 = 25\n",
            "5 x 6 = 30\n",
            "5 x 7 = 35\n",
            "5 x 8 = 40\n",
            "5 x 9 = 45\n",
            "5 x 10 = 50\n"
          ]
        }
      ]
    },
    {
      "cell_type": "markdown",
      "source": [
        "13- Faça um programa que peça dois números, base e expoente, calcule e mostre o primeiro número elevado ao segundo número. Não utilize a função de potência da linguagem."
      ],
      "metadata": {
        "id": "-LI5xyBNQqq-"
      }
    },
    {
      "cell_type": "code",
      "source": [
        "base = int(input('insira a base: '));\n",
        "expoente = int(input('insira o expoente: '));\n",
        "potencia = 1;\n",
        "\n",
        "for i in range(1, expoente + 1):\n",
        "  potencia *= base;\n",
        "\n",
        "print(base, 'elevado a', expoente, 'é', potencia);"
      ],
      "metadata": {
        "id": "vzAyk0HrQrxn",
        "outputId": "26050144-d17e-4054-e5e1-6039c611f9f3",
        "colab": {
          "base_uri": "https://localhost:8080/"
        }
      },
      "execution_count": null,
      "outputs": [
        {
          "output_type": "stream",
          "name": "stdout",
          "text": [
            "insira a base: 2\n",
            "insira o expoente: 3\n",
            "2 elevado a 3 é 8\n"
          ]
        }
      ]
    },
    {
      "cell_type": "markdown",
      "source": [
        "14- Faça um programa que peça 10 números inteiros, calcule e mostre a quantidade de números pares e a quantidade de números ímpares."
      ],
      "metadata": {
        "id": "1S9PEwRLQuEm"
      }
    },
    {
      "cell_type": "code",
      "source": [
        "pares = 0\n",
        "impares = 0\n",
        "\n",
        "for i in range(10):\n",
        "    num = int(input('Insira o número ' + chr(65 + i)+ ': ')) # usando caracteres da tabela ASCII.\n",
        "    if num % 2 == 0:\n",
        "        pares += 1\n",
        "    else:\n",
        "        impares += 1\n",
        "\n",
        "print('Quantidade de números pares:', pares)\n",
        "print('Quantidade de números ímpares:', impares)\n"
      ],
      "metadata": {
        "id": "QUkfEm9CQvWa",
        "colab": {
          "base_uri": "https://localhost:8080/"
        },
        "outputId": "b527e854-602d-4b4f-c34e-3f131fe33eac"
      },
      "execution_count": 4,
      "outputs": [
        {
          "output_type": "stream",
          "name": "stdout",
          "text": [
            "Insira o número A: 1\n",
            "Insira o número B: 2\n",
            "Insira o número C: 3\n",
            "Insira o número D: 4\n",
            "Insira o número E: 5\n",
            "Insira o número F: 6\n",
            "Insira o número G: 7\n",
            "Insira o número H: 8\n",
            "Insira o número I: 9\n",
            "Insira o número J: 0\n",
            "Quantidade de números pares: 5\n",
            "Quantidade de números ímpares: 5\n"
          ]
        }
      ]
    },
    {
      "cell_type": "markdown",
      "source": [
        "15- A série de Fibonacci é formada pela sequência 1,1,2,3,5,8,13,21,34,55,... Faça um programa capaz de gerar a série até o n−ésimo termo."
      ],
      "metadata": {
        "id": "jivgY60PQxeX"
      }
    },
    {
      "cell_type": "code",
      "source": [
        "n = int(input(\"Digite quantos termos da sequência de Fibonacci você quer gerar: \"))\n",
        "\n",
        "primeiro = 1\n",
        "segundo = 1\n",
        "contador = 2\n",
        "\n",
        "print(primeiro, segundo, end=\" \")\n",
        "\n",
        "while contador < n:\n",
        "    proximo = primeiro + segundo\n",
        "    print(proximo, end=\" \")\n",
        "\n",
        "    primeiro = segundo\n",
        "    segundo = proximo\n",
        "    contador += 1"
      ],
      "metadata": {
        "id": "a31HxmdsQyUU",
        "colab": {
          "base_uri": "https://localhost:8080/"
        },
        "outputId": "1786ab5d-a793-46e0-a07b-511303efcfe0"
      },
      "execution_count": 5,
      "outputs": [
        {
          "output_type": "stream",
          "name": "stdout",
          "text": [
            "Digite quantos termos da sequência de Fibonacci você quer gerar: 10\n",
            "1 1 2 3 5 8 13 21 34 55 "
          ]
        }
      ]
    }
  ]
}