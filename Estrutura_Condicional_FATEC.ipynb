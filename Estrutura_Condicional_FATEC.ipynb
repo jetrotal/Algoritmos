{
  "nbformat": 4,
  "nbformat_minor": 0,
  "metadata": {
    "colab": {
      "provenance": [],
      "include_colab_link": true
    },
    "kernelspec": {
      "name": "python3",
      "display_name": "Python 3"
    },
    "language_info": {
      "name": "python"
    }
  },
  "cells": [
    {
      "cell_type": "markdown",
      "metadata": {
        "id": "view-in-github",
        "colab_type": "text"
      },
      "source": [
        "<a href=\"https://colab.research.google.com/github/jetrotal/Algoritmos/blob/main/Estrutura_Condicional_FATEC.ipynb\" target=\"_parent\"><img src=\"https://colab.research.google.com/assets/colab-badge.svg\" alt=\"Open In Colab\"/></a>"
      ]
    },
    {
      "cell_type": "markdown",
      "source": [
        "# **ESTRUTURAS CONDICIONAIS EM PYTHON**"
      ],
      "metadata": {
        "id": "oYtbsCJCIcLe"
      }
    },
    {
      "cell_type": "markdown",
      "source": [
        "# 1. Introdução às Estruturas Condicionais\n",
        "- Conceito e finalidade.\n",
        "- Como as estruturas condicionais permitem a tomada de decisões em um programa\n"
      ],
      "metadata": {
        "id": "1_BuSh45Inx_"
      }
    },
    {
      "cell_type": "markdown",
      "source": [
        "# 2. Sintaxe do if, elif, e else\n",
        "- Estrutura básica:\n"
      ],
      "metadata": {
        "id": "1-H5a9OpItH-"
      }
    },
    {
      "cell_type": "code",
      "source": [
        "# ...\n",
        "\n",
        "numero = int(input(\"Digite um número\"))\n",
        "\n",
        "if numero<10:\n",
        "  print(\"É menor que 10\")\n",
        "elif numero > 10:\n",
        "  print(\"É maior que 10\")\n",
        "else:\n",
        "  print(\"É igual a 10\")\n"
      ],
      "metadata": {
        "colab": {
          "base_uri": "https://localhost:8080/"
        },
        "id": "rp16N6M1I7km",
        "outputId": "e93a1840-738d-4bfd-fce4-87e74200318b"
      },
      "execution_count": null,
      "outputs": [
        {
          "output_type": "stream",
          "name": "stdout",
          "text": [
            "Digite um número10\n",
            "É igual a 10\n"
          ]
        }
      ]
    },
    {
      "cell_type": "markdown",
      "source": [
        "- Exemplos práticos"
      ],
      "metadata": {
        "id": "WBnlfo1YI43u"
      }
    },
    {
      "cell_type": "code",
      "execution_count": null,
      "metadata": {
        "colab": {
          "base_uri": "https://localhost:8080/"
        },
        "id": "5077BjrGISc2",
        "outputId": "8cf934b5-a922-4f9a-fc44-a32a8b4ba9e7"
      },
      "outputs": [
        {
          "output_type": "stream",
          "name": "stdout",
          "text": [
            "Oi Alunos\n"
          ]
        }
      ],
      "source": [
        "# ...\n",
        "nome = \"jjjjj\"\n",
        "\n",
        "#nome = nome.lower()\n",
        "if nome.lower() == \"anderson\":\n",
        "  print(\"Oi professor\")\n",
        "else:\n",
        "  print(\"Oi Alunos\")\n"
      ]
    },
    {
      "cell_type": "code",
      "source": [
        "# Outro exemplo utilizando operadores lógicos\n",
        "\n",
        "idade = 18\n",
        "habilitacao = True\n",
        "\n",
        "if idade>=18 and habilitacao:\n",
        "  print(\"PODE DIRIGIR\")\n",
        "else:\n",
        "  print(\"NÃO PODE DIRIGIR\")"
      ],
      "metadata": {
        "colab": {
          "base_uri": "https://localhost:8080/"
        },
        "id": "eT_5zEeyUUZx",
        "outputId": "ece06778-75b1-4f7a-d2c6-e86d5fcef31f"
      },
      "execution_count": null,
      "outputs": [
        {
          "output_type": "stream",
          "name": "stdout",
          "text": [
            "PODE DIRIGIR\n"
          ]
        }
      ]
    },
    {
      "cell_type": "markdown",
      "source": [
        "# 3. Operadores de Comparação e Lógicos\n",
        "- Revisão dos operadores: `==, !=, <, >, <=, >=`.\n",
        "- Revisão dos operadores lógicos: `and, or, not`.\n"
      ],
      "metadata": {
        "id": "qahQSKscJBX9"
      }
    },
    {
      "cell_type": "code",
      "source": [
        "# ..."
      ],
      "metadata": {
        "id": "pw7QvR20JHYn"
      },
      "execution_count": null,
      "outputs": []
    },
    {
      "cell_type": "markdown",
      "source": [
        "# 4. Exemplos Práticos\n",
        "- Exemplo 1: Verificar se um número é par ou ímpar.\n"
      ],
      "metadata": {
        "id": "-4n8_zIpJLJu"
      }
    },
    {
      "cell_type": "code",
      "source": [
        "# ...\n",
        "numero = 3\n",
        "if numero%2 == 0:\n",
        "  print(\"ESTE NÚMERO É PAR\")\n",
        "else:\n",
        "  print(\"ESTE NÚMERO É ÍMPAR\")\n",
        "\n",
        "print(\"Fim do Programa\")"
      ],
      "metadata": {
        "colab": {
          "base_uri": "https://localhost:8080/"
        },
        "id": "2S7TBXN5JN0O",
        "outputId": "b9d79627-1de2-441a-9054-fc173572b36d"
      },
      "execution_count": null,
      "outputs": [
        {
          "output_type": "stream",
          "name": "stdout",
          "text": [
            "ESTE NÚMERO É ÍMPAR\n",
            "Fim do Programa\n"
          ]
        }
      ]
    },
    {
      "cell_type": "markdown",
      "source": [
        "- Exemplo 2: Verificar se um aluno foi aprovado, reprovado ou se está em recuperação."
      ],
      "metadata": {
        "id": "76ln5wUUJRju"
      }
    },
    {
      "cell_type": "code",
      "source": [
        "# ...\n",
        "media = float(input(\"Digite a média (entre 0 e 10)\"))\n",
        "\n",
        "if media<0 or media>10:\n",
        "  print(\"Valor inválido\")\n",
        "else:\n",
        "  if media>=6:\n",
        "    print(\"APROVADO\")\n",
        "  else:\n",
        "    if media<4:\n",
        "      print(\"REPROVADO\")\n",
        "    else:\n",
        "      print(\"RECUPERAÇÃO\")\n",
        "\n"
      ],
      "metadata": {
        "colab": {
          "base_uri": "https://localhost:8080/"
        },
        "id": "7hOV-f5mJT18",
        "outputId": "7b87cb09-596e-47d3-cfe0-57adb9ad712e"
      },
      "execution_count": 31,
      "outputs": [
        {
          "output_type": "stream",
          "name": "stdout",
          "text": [
            "Digite a média (entre 0 e 10)6\n",
            "APROVADO\n"
          ]
        }
      ]
    },
    {
      "cell_type": "code",
      "source": [],
      "metadata": {
        "id": "Am3XWJU4ZX-E"
      },
      "execution_count": null,
      "outputs": []
    },
    {
      "cell_type": "markdown",
      "source": [
        "- Exemplo 3: Identificar se uma pessoa pode votar."
      ],
      "metadata": {
        "id": "VFm8-28wJXuH"
      }
    },
    {
      "cell_type": "code",
      "source": [
        "# ...\n",
        "nome = input(\"Digite seu nome: \")\n",
        "idade = int(input(\"Digite sua idade: \"))\n",
        "\n",
        "if idade<16:\n",
        "  print(\"Cresça primeiro!!!!Depois tire o título e vote!\")\n",
        "else:\n",
        "  titulo = int(input(\"Digite 1 se possuir titulo ou 0 se não tiver: \"))\n",
        "  if titulo != 1:\n",
        "    print(\"OLÁ,\",nome,\" VOCÊ NÃO PODE VOTAR!\")\n",
        "  elif idade>70 or (idade>=16 and idade <18):\n",
        "    print(\"OLÁ,\",nome,\" VOTO OPCIONAL\")\n",
        "  else:\n",
        "    print(\"OLÁ,\",nome,\" VOTO OBRIGATÓRIO\")"
      ],
      "metadata": {
        "colab": {
          "base_uri": "https://localhost:8080/"
        },
        "id": "39BjBkBzJZzn",
        "outputId": "66a5835d-8a40-4cd3-f43d-d3b0112fe927"
      },
      "execution_count": null,
      "outputs": [
        {
          "output_type": "stream",
          "name": "stdout",
          "text": [
            "Digite seu nome: dsfsdf\n",
            "Digite sua idade: 80\n",
            "Digite 1 se possuir titulo ou 0 se não tiver: 1\n",
            "OLÁ, dsfsdf  VOTO OPCIONAL\n"
          ]
        }
      ]
    },
    {
      "cell_type": "markdown",
      "source": [
        "# **Lista de Exercícios:**"
      ],
      "metadata": {
        "id": "OILQbqT6Jg6d"
      }
    },
    {
      "cell_type": "markdown",
      "source": [
        "1.\tCrie um programa que peça ao usuário para inserir um número e verifique se é positivo, negativo ou zero."
      ],
      "metadata": {
        "id": "OhajSa8-Jiwv"
      }
    },
    {
      "cell_type": "code",
      "source": [
        "num = int(input(\"Digite um número: \"));\n",
        "if num > 0:\n",
        "  print(\"O número é positivo\")\n",
        "elif num < 0:\n",
        "  print(\"O número é negativo\")\n",
        "else:\n",
        "  print(\"O número é zero\")"
      ],
      "metadata": {
        "colab": {
          "base_uri": "https://localhost:8080/"
        },
        "id": "Nm9qFCfnnZPm",
        "outputId": "6d149872-30d1-4dab-d70f-6dc2ba7393e4"
      },
      "execution_count": 11,
      "outputs": [
        {
          "output_type": "stream",
          "name": "stdout",
          "text": [
            "Digite um número: 1\n",
            "O número é positivo\n"
          ]
        }
      ]
    },
    {
      "cell_type": "markdown",
      "source": [
        "2.\tEscreva um código que verifique a idade de uma pessoa e imprima se ela é menor de idade, maior de idade ou idosa."
      ],
      "metadata": {
        "id": "MGRULY1uJljH"
      }
    },
    {
      "cell_type": "code",
      "source": [
        "idade = int(input(\"Digite sua idade: \"))\n",
        "if idade < 18:\n",
        "  print(\"Você é menor de idade\")\n",
        "elif idade >= 18 and idade < 65:\n",
        "  print(\"Você é maior de idade\")\n",
        "else:\n",
        "  print(\"Você é idoso\")"
      ],
      "metadata": {
        "colab": {
          "base_uri": "https://localhost:8080/"
        },
        "id": "ZsTexpC4n83B",
        "outputId": "4a3f9a52-3b91-4c78-d71f-09fe85c2c7ec"
      },
      "execution_count": 30,
      "outputs": [
        {
          "output_type": "stream",
          "name": "stdout",
          "text": [
            "Digite sua idade: 16\n",
            "Você é menor de idade\n"
          ]
        }
      ]
    },
    {
      "cell_type": "markdown",
      "source": [
        "3.\tFaça um programa que peça a nota de um aluno e informe se ele foi aprovado (nota >= 7), de recuperação (5 <= nota < 7) ou reprovado (nota < 5)."
      ],
      "metadata": {
        "id": "hSC1gejzJn-X"
      }
    },
    {
      "cell_type": "code",
      "source": [
        "nota = int(input(\"Digite a nota do aluno: \"))\n",
        "if nota >= 7:\n",
        "  print(\"Aprovado\")\n",
        "elif nota >= 5 and nota < 7:\n",
        "  print(\"Recuperação\")\n",
        "else:\n",
        "  print(\"Reprovado\")"
      ],
      "metadata": {
        "colab": {
          "base_uri": "https://localhost:8080/"
        },
        "id": "TselyrF-oFCA",
        "outputId": "11ed936e-3b52-4aeb-cdce-ac366e275e26"
      },
      "execution_count": 29,
      "outputs": [
        {
          "output_type": "stream",
          "name": "stdout",
          "text": [
            "Digite a nota do aluno: 6\n",
            "Recuperação\n"
          ]
        }
      ]
    },
    {
      "cell_type": "markdown",
      "source": [
        "4.\tCrie um sistema que determine se uma pessoa pode tirar carteira de motorista (idade mínima de 18 anos)."
      ],
      "metadata": {
        "id": "dLmLWyOrJqzX"
      }
    },
    {
      "cell_type": "code",
      "source": [
        "idade = int(input(\"Digite sua idade: \"))\n",
        "if idade >= 18:\n",
        "  print(\"Você pode tirar carteira de motorista\")\n",
        "else:\n",
        "  print(\"Você não pode tirar carteira de motorista\")"
      ],
      "metadata": {
        "id": "GJqhkjFTgE1H",
        "outputId": "ee98853b-d7a1-40e4-ba36-1d8d9b21a7be",
        "colab": {
          "base_uri": "https://localhost:8080/"
        }
      },
      "execution_count": 28,
      "outputs": [
        {
          "output_type": "stream",
          "name": "stdout",
          "text": [
            "Digite sua idade: 17\n",
            "Você não pode tirar carteira de motorista\n"
          ]
        }
      ]
    },
    {
      "cell_type": "markdown",
      "source": [
        "5.\tDesenvolva um programa que verifique se um ano é bissexto."
      ],
      "metadata": {
        "id": "MvuFRPn8Jtoo"
      }
    },
    {
      "cell_type": "markdown",
      "source": [
        "Como determinar se um ano é bissexto\n",
        "Para determinar se um ano é bissexto, execute estas etapas:\n",
        "\n",
        "1. Se o ano for uniformemente divisível por 4, vá para a etapa 2. Caso contrário, vá para a etapa 5.\n",
        "2. Se o ano for uniformemente divisível por 100, vá para a etapa 3. Caso contrário, vá para a etapa 4.\n",
        "3. Se o ano for uniformemente divisível por 400, vá para a etapa 4. Caso contrário, vá para a etapa 5.\n",
        "4. O ano é bissexto (tem 366 dias).\n",
        "5. O ano não é um ano bissexto (tem 365 dias)."
      ],
      "metadata": {
        "id": "2efg4JHxlM7A"
      }
    },
    {
      "cell_type": "code",
      "source": [
        "# DICA: Para saber se um ano é bissexto, basta verificar se é divisível por 4.\n",
        "# Por exemplo, 1988, 1992 e 1996 são anos bissextos.\n",
        "\n",
        "# No entanto, para evitar que o calendário fique muito diferente do ano solar,\n",
        "# os anos terminados em 00 (múltiplos de 100) só são bissextos se o resultado\n",
        "# da divisão por 400 for exato.\n",
        "\n",
        "#ano = 1600\n",
        "#resto = ano % 4\n",
        "#resto\n",
        "\n",
        "ano = int(input(\"Digite o ano: \"))\n",
        "if (ano % 4 == 0):\n",
        "  if(ano % 100 == 0):\n",
        "    if(ano % 400 == 0):\n",
        "      print(\"O ano é bissexto\")\n",
        "    else:\n",
        "      print(\"O ano não é bissexto\")\n",
        "  else:\n",
        "    print(\"O ano é bissexto\")\n",
        "else:\n",
        "  print(\"O ano não é bissexto\")\n"
      ],
      "metadata": {
        "colab": {
          "base_uri": "https://localhost:8080/"
        },
        "id": "G3X9_VT_jlZi",
        "outputId": "96874b2e-2c73-4e30-d59e-7ede92568199"
      },
      "execution_count": 27,
      "outputs": [
        {
          "output_type": "stream",
          "name": "stdout",
          "text": [
            "Digite o ano: 1989\n",
            "O ano não é bissexto\n"
          ]
        }
      ]
    },
    {
      "cell_type": "markdown",
      "source": [
        "6.\tEscreva um código que peça ao usuário para inserir uma letra e informe se ela é uma vogal ou uma consoante."
      ],
      "metadata": {
        "id": "_jS31FX3JvrG"
      }
    },
    {
      "cell_type": "code",
      "source": [
        "letra = input(\"Digite uma letra: \")\n",
        "letra = letra.lower()\n",
        "if letra == \"a\" or letra == \"e\" or letra == \"i\" or letra == \"o\" or letra == \"u\":\n",
        "  print(\"A letra\",letra,\"é uma vogal\")\n",
        "else:\n",
        "  print(\"A letra\",letra,\"é uma consoante\")"
      ],
      "metadata": {
        "colab": {
          "base_uri": "https://localhost:8080/"
        },
        "id": "8Xo5P1xOrQ-9",
        "outputId": "02f24327-9c50-47b6-cb78-fd9f08f3d89d"
      },
      "execution_count": 15,
      "outputs": [
        {
          "output_type": "stream",
          "name": "stdout",
          "text": [
            "Digite uma letra: A\n",
            "A letra a é uma vogal\n"
          ]
        }
      ]
    },
    {
      "cell_type": "markdown",
      "source": [
        "7.\tCrie um programa que peça o nome de um mês e informe quantos dias ele tem.\n"
      ],
      "metadata": {
        "id": "O0Wv5NCkJ1Sj"
      }
    },
    {
      "cell_type": "code",
      "source": [
        "mês_nome = input(\"Digite o nome do mês: \")\n",
        "mês_nome = mês_nome.lower();\n",
        "if (mês_nome == \"janeiro\" or mês_nome == \"março\" or mês_nome == \"maio\" or mês_nome == \"julho\" or mês_nome == \"agosto\" or mês_nome == \"outubro\" or mês_nome == \"dezembro\"):\n",
        "  print(\"O mês\",mês_nome,\"tem 31 dias\")\n",
        "elif (mês_nome == \"abril\" or mês_nome == \"junho\" or mês_nome == \"setembro\" or mês_nome == \"novembro\"):\n",
        "  print(\"O mês\",mês_nome,\"tem 30 dias\")\n",
        "elif (mês_nome == \"fevereiro\"):\n",
        "      print(\"O mês\",mês_nome,\"tem 28 dias\")\n",
        "else:\n",
        "    print(mês_nome,\"é um mês invalido\")\n",
        ""
      ],
      "metadata": {
        "colab": {
          "base_uri": "https://localhost:8080/"
        },
        "id": "KfYbWXgIsXWh",
        "outputId": "eec37d16-f8c7-4b4c-e083-4a8c50e9559c"
      },
      "execution_count": 25,
      "outputs": [
        {
          "output_type": "stream",
          "name": "stdout",
          "text": [
            "Digite o nome do mês: fevereiro\n",
            "O mês fevereiro tem 28 dias\n"
          ]
        }
      ]
    },
    {
      "cell_type": "markdown",
      "source": [
        "8.\tDesenvolva um sistema que determine se um número é múltiplo de 3 e 5."
      ],
      "metadata": {
        "id": "EEY-66tcJ3Rc"
      }
    },
    {
      "cell_type": "code",
      "source": [
        "num = int(input(\"Digite um número: \"))\n",
        "if (num % 3 == 0) and (num % 5 == 0):\n",
        "  print(\"O número\",num,\"é múltiplo de 3 e 5\")\n",
        "else:\n",
        "  print(\"O número\",num,\"não é múltiplo de 3 e 5\")"
      ],
      "metadata": {
        "colab": {
          "base_uri": "https://localhost:8080/"
        },
        "id": "Bg1DOWm-tzRP",
        "outputId": "2843a9fb-b9ed-4baa-e756-d59f1e5870c7"
      },
      "execution_count": 25,
      "outputs": [
        {
          "output_type": "stream",
          "name": "stdout",
          "text": [
            "Digite um número: 15\n",
            "O número 15 é múltiplo de 3 e 5\n"
          ]
        }
      ]
    },
    {
      "cell_type": "markdown",
      "source": [
        "9.\tFaça um código que peça ao usuário seu salário e calcule o imposto a ser pago (faixas: até `R$ 1.000`, isento; `R$ 1.001` a `R$ 3.000`, 10%; acima de `R$ 3.000`, 20%)."
      ],
      "metadata": {
        "id": "9Su10vicJ4wq"
      }
    },
    {
      "cell_type": "code",
      "source": [
        "salario = float(input(\"Digite seu salário: \"));\n",
        "if salario <= 1000:\n",
        "  print(\"Você é isento de imposto\")\n",
        "elif salario <= 3000:\n",
        "  print(\"Você deve pagar 10% de imposto\")\n",
        "  calculo = salario * 0.1\n",
        "  print(\"O valor do imposto é de R$\",calculo)\n",
        "\n",
        "else:\n",
        "  print(\"Você deve pagar 20% de imposto\")\n",
        "  calculo = salario * 0.2\n",
        "  print(\"O valor do imposto é de R$\",calculo)"
      ],
      "metadata": {
        "colab": {
          "base_uri": "https://localhost:8080/"
        },
        "id": "Uj4AO4q1uDLf",
        "outputId": "b1effc97-32b4-44d8-a541-40b6169d41b1"
      },
      "execution_count": 29,
      "outputs": [
        {
          "output_type": "stream",
          "name": "stdout",
          "text": [
            "Digite seu salário: 3000.1\n",
            "Você deve pagar 20% de imposto\n",
            "O valor do imposto é de R$ 600.02\n"
          ]
        }
      ]
    },
    {
      "cell_type": "markdown",
      "source": [
        "10.\tCrie um programa que pergunte a temperatura em graus Celsius e informe se está frio (abaixo de 15°C), ameno (15°C a 25°C) ou quente (acima de 25°C).\n"
      ],
      "metadata": {
        "id": "p_W20MikJ6iU"
      }
    },
    {
      "cell_type": "code",
      "source": [
        "temperatura = float(input(\"Digite a temperatura em graus Celsius: \"))\n",
        "if temperatura < 15:\n",
        "  print(\"Está frio\")\n",
        "elif temperatura >= 15 and temperatura <= 25:\n",
        "  print(\"Está ameno\")\n",
        "else:\n",
        "  print(\"Está quente\")"
      ],
      "metadata": {
        "colab": {
          "base_uri": "https://localhost:8080/"
        },
        "id": "oE1E0_hRu15j",
        "outputId": "39444fd8-ae54-42ac-af48-1bb373542519"
      },
      "execution_count": 24,
      "outputs": [
        {
          "output_type": "stream",
          "name": "stdout",
          "text": [
            "Digite a temperatura em graus Celsius: 26\n",
            "Está quente\n"
          ]
        }
      ]
    },
    {
      "cell_type": "markdown",
      "source": [
        "11.\tFaça um programa que peça o ano de nascimento e informe a classe de idade (0-12 anos, 13-17 anos, 18-59 anos, 60 anos ou mais).\n"
      ],
      "metadata": {
        "id": "cHgBQKKNJ9YC"
      }
    },
    {
      "cell_type": "code",
      "source": [
        "idade = int(input(\"Digite sua idade: \"))\n",
        "if (idade <= 12):\n",
        "  print(\"Você está na classe de 0 a 12 anos\")\n",
        "elif (idade >= 13 and idade <= 17):\n",
        "  print(\"Você está na classe de 13 a 17 anos\")\n",
        "elif (idade >= 18 and idade <= 59):\n",
        "  print(\"Você está na classe de 18 a 59 anos\")\n",
        "else:\n",
        "  print(\"Você está na classe 60 anos ou mais\")"
      ],
      "metadata": {
        "colab": {
          "base_uri": "https://localhost:8080/"
        },
        "id": "P3YIFQzku-bT",
        "outputId": "f1f80260-5d3d-4413-bb13-f85f80f8c5a3"
      },
      "execution_count": 30,
      "outputs": [
        {
          "output_type": "stream",
          "name": "stdout",
          "text": [
            "Digite sua idade: 14\n",
            "Você está na classe de 13 a 17 anos\n"
          ]
        }
      ]
    },
    {
      "cell_type": "markdown",
      "source": [
        "12.\tCrie um sistema que verifique se um triângulo é equilátero, isósceles ou escaleno com base nos comprimentos dos lados."
      ],
      "metadata": {
        "id": "HPQnV-dZJ-mL"
      }
    },
    {
      "cell_type": "code",
      "source": [
        "lado1 = float(input(\"Digite o comprimento do primeiro lado: \"))\n",
        "lado2 = float(input(\"Digite o comprimento do segundo lado: \"))\n",
        "lado3 = float(input(\"Digite o comprimento do terceiro lado: \"))\n",
        "\n",
        "if (lado1 == lado2) and (lado2 == lado3):\n",
        "  print(\"O triângulo é equilátero\")\n",
        "elif (lado1 == lado2) or (lado1 == lado3) or (lado2 == lado3):\n",
        "  print(\"O triângulo é isósceles\")\n",
        "else:\n",
        "  print(\"O triângulo é escaleno\")"
      ],
      "metadata": {
        "colab": {
          "base_uri": "https://localhost:8080/"
        },
        "id": "pdVp-LJGvlX2",
        "outputId": "99efd791-a7d1-4b3a-f9e9-9730e75a6f5c"
      },
      "execution_count": 23,
      "outputs": [
        {
          "output_type": "stream",
          "name": "stdout",
          "text": [
            "Digite o comprimento do primeiro lado: 10\n",
            "Digite o comprimento do segundo lado: 10\n",
            "Digite o comprimento do terceiro lado: 10\n",
            "O triângulo é equilátero\n"
          ]
        }
      ]
    },
    {
      "cell_type": "markdown",
      "source": [
        "# **DESAFIOS**"
      ],
      "metadata": {
        "id": "KO5c2G87J_ki"
      }
    },
    {
      "cell_type": "markdown",
      "source": [
        "13.\tEscreva um código que determine se um número é primo.\n"
      ],
      "metadata": {
        "id": "luRj3PH1J8F7"
      }
    },
    {
      "cell_type": "code",
      "source": [
        "num = int(input(\"Digite um número: \"))\n",
        "\n",
        "total_divisores = 0\n",
        "\n",
        "for i in range(1, num + 1):\n",
        "    if num % i == 0:\n",
        "        total_divisores += 1\n",
        "    if total_divisores > 2:\n",
        "        break\n",
        "\n",
        "if total_divisores == 2:\n",
        "    print(\"O número\", num,\"é primo\")\n",
        "else:\n",
        "    print(\"O número\", num,\"não é primo\")"
      ],
      "metadata": {
        "colab": {
          "base_uri": "https://localhost:8080/"
        },
        "id": "ucFY9rRp1svP",
        "outputId": "71a38d84-2612-4b3b-c49f-c8f9a12811ce"
      },
      "execution_count": 21,
      "outputs": [
        {
          "output_type": "stream",
          "name": "stdout",
          "text": [
            "Digite um número: 5\n",
            "O número 5 é primo\n"
          ]
        }
      ]
    },
    {
      "cell_type": "markdown",
      "source": [
        "\n",
        "14.\tDesenvolva um programa que peça ao usuário um número e informe a tabela de multiplicação desse número.\n",
        "\n"
      ],
      "metadata": {
        "id": "Tf6ANOFHKCSq"
      }
    },
    {
      "cell_type": "code",
      "source": [
        "num = int(input(\"Digite um número: \"))\n",
        "for i in range(1,11):\n",
        "  print(num,\"x\",i,\"=\",num*i)"
      ],
      "metadata": {
        "id": "cgEkhIfCtWzo",
        "outputId": "5d6c0c02-4511-43e2-c16e-55013970d518",
        "colab": {
          "base_uri": "https://localhost:8080/"
        }
      },
      "execution_count": 6,
      "outputs": [
        {
          "output_type": "stream",
          "name": "stdout",
          "text": [
            "Digite um número: 5\n",
            "5 x 1 = 5\n",
            "5 x 2 = 10\n",
            "5 x 3 = 15\n",
            "5 x 4 = 20\n",
            "5 x 5 = 25\n",
            "5 x 6 = 30\n",
            "5 x 7 = 35\n",
            "5 x 8 = 40\n",
            "5 x 9 = 45\n",
            "5 x 10 = 50\n"
          ]
        }
      ]
    },
    {
      "cell_type": "markdown",
      "source": [
        "15.\tEscreva um código que verifique se uma senha é válida (mínimo de 8 caracteres, pelo menos uma letra e um número)."
      ],
      "metadata": {
        "id": "IVM3IesrKFie"
      }
    },
    {
      "cell_type": "code",
      "source": [
        "import getpass\n",
        "\n",
        "senha = getpass.getpass('Digite sua senha: ')\n",
        "\n",
        "tamanhoBom = len(senha) >= 8\n",
        "usaNumeros = False\n",
        "usaLetra = False\n",
        "\n",
        "for char in senha:\n",
        "  if char.isdigit():\n",
        "    usaNumeros = True\n",
        "  elif char.isalpha():\n",
        "    usaLetra = True\n",
        "  if usaNumeros and usaLetra:\n",
        "    break\n",
        "\n",
        "if not tamanhoBom:\n",
        "  print(\"A senha deve ter no mínimo 8 caracteres\")\n",
        "if not usaNumeros:\n",
        "  print(\"A senha deve ter pelo menos um número\")\n",
        "if not usaLetra:\n",
        "  print(\"A senha deve ter pelo menos uma letra\")\n",
        "\n",
        "if tamanhoBom and usaNumeros and usaLetra:\n",
        "  print(\"Vou contar pra todo mundo que sua senha é\", senha)"
      ],
      "metadata": {
        "id": "-L3NYCO2rXro",
        "outputId": "518efbc2-77f0-40dd-cb27-e24748744a9f",
        "colab": {
          "base_uri": "https://localhost:8080/"
        }
      },
      "execution_count": 16,
      "outputs": [
        {
          "output_type": "stream",
          "name": "stdout",
          "text": [
            "Digite sua senha: ··········\n",
            "Vou contar pra todo mundo que sua senha é testando1234\n"
          ]
        }
      ]
    },
    {
      "cell_type": "code",
      "source": [],
      "metadata": {
        "id": "dAUiiq8BuSz0"
      },
      "execution_count": null,
      "outputs": []
    }
  ]
}